{
 "cells": [
  {
   "cell_type": "markdown",
   "metadata": {},
   "source": []
  },
  {
   "cell_type": "markdown",
   "metadata": {},
   "source": [
    "# Bike Sharing Assignment #"
   ]
  },
  {
   "cell_type": "code",
   "execution_count": null,
   "metadata": {},
   "outputs": [],
   "source": [
    "import numpy as np\n",
    "import pandas as pd\n",
    "import matplotlib.pyplot as pt \n",
    "import seaborn as sns \n"
   ]
  },
  {
   "cell_type": "code",
   "execution_count": null,
   "metadata": {},
   "outputs": [],
   "source": [
    "# import data file\n",
    "\n",
    "bike_sharing_data  = pd.read_csv(\"./day.csv\")\n",
    "\n",
    "print(bike_sharing_data.shape)\n",
    "bike_sharing_data.head(5)"
   ]
  },
  {
   "cell_type": "markdown",
   "metadata": {},
   "source": [
    "## 1. Data Cleanup using EDA ##\n",
    "\n",
    "The first step to cleanup data using EDA Techniques."
   ]
  },
  {
   "cell_type": "markdown",
   "metadata": {},
   "source": [
    "1.1 Cleanup of all Null Columns"
   ]
  },
  {
   "cell_type": "code",
   "execution_count": null,
   "metadata": {},
   "outputs": [],
   "source": [
    "bike_sharing_data_backup = bike_sharing_data\n",
    "\n",
    "type(bike_sharing_data.isnull().sum())\n",
    "\n",
    "filtered_series = bike_sharing_data.isnull().sum()[bike_sharing_data.isnull().sum()==730]\n",
    "\n",
    "print(filtered_series)\n",
    "\n",
    "filtered_series.to_csv('cols_having_empty_header.csv',header=['Count of Row Values'],index=True)\n"
   ]
  },
  {
   "cell_type": "markdown",
   "metadata": {},
   "source": [
    "There are no null valued cells. So, let us proceed with finding unique value of columns"
   ]
  },
  {
   "cell_type": "code",
   "execution_count": null,
   "metadata": {},
   "outputs": [],
   "source": [
    "unique_count_of_values = bike_sharing_data.nunique()\n",
    "\n",
    "print(unique_count_of_values[unique_count_of_values==1].index.tolist())\n"
   ]
  },
  {
   "cell_type": "markdown",
   "metadata": {},
   "source": [
    "Upon analysis, there are no unique count of values. "
   ]
  },
  {
   "cell_type": "code",
   "execution_count": null,
   "metadata": {},
   "outputs": [],
   "source": [
    "bike_sharing_data.head()"
   ]
  },
  {
   "cell_type": "code",
   "execution_count": null,
   "metadata": {},
   "outputs": [],
   "source": [
    "print(bike_sharing_data.info())\n",
    "print(bike_sharing_data.columns)\n"
   ]
  },
  {
   "cell_type": "code",
   "execution_count": null,
   "metadata": {},
   "outputs": [],
   "source": [
    "# Droping instant column as it is index column which has nothing to do with target\n",
    "bike_sharing_data.drop(['instant'], axis = 1, inplace = True)\n",
    "\n",
    "# Dropping dteday as we have already have month and weekday columns to work with\n",
    "bike_sharing_data.drop(['dteday'], axis = 1, inplace = True)\n",
    "\n",
    "# Dropping casual and registered columnsa as as we have cnt column which is sum of the both that is the target column\n",
    "\n",
    "bike_sharing_data.drop(['casual'], axis = 1, inplace = True)\n",
    "bike_sharing_data.drop(['registered'], axis = 1, inplace = True)"
   ]
  },
  {
   "cell_type": "code",
   "execution_count": null,
   "metadata": {},
   "outputs": [],
   "source": [
    "bike_sharing_data.head()"
   ]
  },
  {
   "cell_type": "code",
   "execution_count": null,
   "metadata": {},
   "outputs": [],
   "source": [
    "\n",
    "\n",
    "bike_sharing_data.corr()"
   ]
  },
  {
   "cell_type": "code",
   "execution_count": null,
   "metadata": {},
   "outputs": [],
   "source": [
    "#Draw pairplots for continuous numeric variables using seaborn\n",
    "pt.figure(figsize = (15,30))\n",
    "sns.pairplot(data=bike_sharing_data,vars=['cnt', 'temp', 'atemp', 'hum','windspeed'])\n",
    "pt.show()"
   ]
  },
  {
   "cell_type": "code",
   "execution_count": null,
   "metadata": {},
   "outputs": [],
   "source": [
    "sns.heatmap(bike_sharing_data[['temp','atemp','hum','windspeed','cnt']].corr(), cmap='viridis', annot = True)\n",
    "pt.show()"
   ]
  },
  {
   "cell_type": "code",
   "execution_count": null,
   "metadata": {},
   "outputs": [],
   "source": [
    "bike_sharing_data.drop(['temp'], axis = 1, inplace = True)"
   ]
  },
  {
   "cell_type": "code",
   "execution_count": null,
   "metadata": {},
   "outputs": [],
   "source": [
    "bike_sharing_data.head(5)"
   ]
  },
  {
   "cell_type": "code",
   "execution_count": null,
   "metadata": {},
   "outputs": [],
   "source": [
    "pt.figure(figsize = (10,20))\n",
    "sns.heatmap(bike_sharing_data.corr(), cmap='viridis', annot = True)\n",
    "pt.show()"
   ]
  },
  {
   "cell_type": "code",
   "execution_count": null,
   "metadata": {},
   "outputs": [],
   "source": [
    "bike_sharing_data.season.replace({1:\"spring\", 2:\"summer\", 3:\"fall\", 4:\"winter\"},inplace = True)\n",
    "\n",
    "bike_sharing_data.weathersit.replace({1:'good',2:'moderate',3:'bad',4:'severe'},inplace = True)\n",
    "bike_sharing_data.holiday.replace({0:'not_holiday',1:'holiday'},inplace = True)\n",
    "\n",
    "bike_sharing_data.yr.replace({0:2018,1:2019},inplace = True)\n",
    "\n",
    "bike_sharing_data.mnth.replace({1: 'jan',2: 'feb',3: 'mar',4: 'apr',5: 'may',6: 'jun',\n",
    "                 7: 'jul',8: 'aug',9: 'sept',10: 'oct',11: 'nov',12: 'dec'})\n",
    "\n",
    "bike_sharing_data.weekday.replace({0: 'sun',1: 'mon',2: 'tue',3: 'wed',4: 'thu',5: 'fri',6: 'sat'})\n",
    "bike_sharing_data.head()"
   ]
  },
  {
   "cell_type": "code",
   "execution_count": null,
   "metadata": {},
   "outputs": [],
   "source": [
    "print(bike_sharing_data['atemp'].min())\n",
    "print(bike_sharing_data['atemp'].max())\n",
    "\n",
    "print(bike_sharing_data['hum'].min())\n",
    "print(bike_sharing_data['hum'].max())\n",
    "\n",
    "print(bike_sharing_data['windspeed'].min())\n",
    "print(bike_sharing_data['windspeed'].max())\n",
    "\n",
    "bike_sharing_data['atemp'].value_counts().to_csv('atemp_data.csv',index=True)\n",
    "bike_sharing_data['hum'].value_counts().to_csv('hum_data.csv',index=True)\n",
    "bike_sharing_data['windspeed'].value_counts().to_csv('windspeed.csv',index=True)"
   ]
  },
  {
   "cell_type": "code",
   "execution_count": null,
   "metadata": {},
   "outputs": [],
   "source": [
    "atemp_bins = [0,10,20,30,40,np.inf]\n",
    "bike_sharing_data['atemp_bin'] = pd.cut(bike_sharing_data['atemp'],atemp_bins)\n",
    "bike_sharing_data['atemp_bin_code'] = bike_sharing_data['atemp_bin'].cat.codes\n",
    "\n",
    "\n",
    "hum_bins = [0,20,40,60,80,np.inf]\n",
    "bike_sharing_data['hum_bin'] = pd.cut(bike_sharing_data['hum'],hum_bins)\n",
    "bike_sharing_data['hum_bin_code'] = bike_sharing_data['hum_bin'].cat.codes\n",
    "\n",
    "windspeed_bins= [0,10,20,30,np.inf]\n",
    "bike_sharing_data['windspeed_bin'] = pd.cut(bike_sharing_data['windspeed'],windspeed_bins)\n",
    "bike_sharing_data['windspeed_bin_code'] = bike_sharing_data['windspeed_bin'].cat.codes\n",
    "\n"
   ]
  },
  {
   "cell_type": "code",
   "execution_count": null,
   "metadata": {},
   "outputs": [],
   "source": [
    "bike_sharing_data.head(5)"
   ]
  },
  {
   "cell_type": "code",
   "execution_count": null,
   "metadata": {},
   "outputs": [],
   "source": [
    "sns.heatmap(bike_sharing_data[['atemp_bin_code','hum_bin_code','windspeed_bin_code','cnt']].corr(), cmap='viridis', annot = True)\n",
    "pt.show()"
   ]
  },
  {
   "cell_type": "code",
   "execution_count": null,
   "metadata": {},
   "outputs": [],
   "source": [
    "bike_sharing_data_rel_columns = bike_sharing_data[['season','yr','mnth','holiday','weathersit','weekday','workingday','atemp_bin_code','hum_bin_code','windspeed_bin_code','cnt']]\n",
    "\n",
    "\n",
    "bike_sharing_data_rel_columns = bike_sharing_data_rel_columns[bike_sharing_data_rel_columns['yr']==0]\n",
    "# bike_sharing_data_rel_columns.head(5)\n",
    "bike_sharing_data_rel_columns = bike_sharing_data_rel_columns.drop(columns='yr')\n",
    "\n",
    "bike_sharing_data_rel_columns.head(5)"
   ]
  },
  {
   "cell_type": "code",
   "execution_count": null,
   "metadata": {},
   "outputs": [],
   "source": [
    "sns.heatmap(bike_sharing_data_rel_columns.corr(), cmap='viridis', annot = True)\n",
    "pt.show()"
   ]
  },
  {
   "cell_type": "code",
   "execution_count": null,
   "metadata": {},
   "outputs": [],
   "source": [
    "pt.figure(figsize = (15,30))\n",
    "sns.pairplot(data=bike_sharing_data_rel_columns,vars=['cnt','season','mnth','weathersit','atemp_bin_code','hum_bin_code','windspeed_bin_code'],diag_kind='hist')\n",
    "pt.show()"
   ]
  }
 ],
 "metadata": {
  "kernelspec": {
   "display_name": "Python 3",
   "language": "python",
   "name": "python3"
  },
  "language_info": {
   "codemirror_mode": {
    "name": "ipython",
    "version": 3
   },
   "file_extension": ".py",
   "mimetype": "text/x-python",
   "name": "python",
   "nbconvert_exporter": "python",
   "pygments_lexer": "ipython3",
   "version": "3.12.0"
  }
 },
 "nbformat": 4,
 "nbformat_minor": 2
}
